{
 "cells": [
  {
   "cell_type": "code",
   "execution_count": 1,
   "id": "f1057dea",
   "metadata": {},
   "outputs": [
    {
     "ename": "ModuleNotFoundError",
     "evalue": "No module named 'imagehash'",
     "output_type": "error",
     "traceback": [
      "\u001b[0;31m---------------------------------------------------------------------------\u001b[0m",
      "\u001b[0;31mModuleNotFoundError\u001b[0m                       Traceback (most recent call last)",
      "\u001b[0;32m/var/folders/hb/fxb4rq1x5rb303y7zmkhprl00000gn/T/ipykernel_53180/710645394.py\u001b[0m in \u001b[0;36m<module>\u001b[0;34m\u001b[0m\n\u001b[1;32m      1\u001b[0m \u001b[0;31m# Import dependencies\u001b[0m\u001b[0;34m\u001b[0m\u001b[0;34m\u001b[0m\u001b[0;34m\u001b[0m\u001b[0m\n\u001b[1;32m      2\u001b[0m \u001b[0;32mfrom\u001b[0m \u001b[0mPIL\u001b[0m \u001b[0;32mimport\u001b[0m \u001b[0mImage\u001b[0m\u001b[0;34m\u001b[0m\u001b[0;34m\u001b[0m\u001b[0m\n\u001b[0;32m----> 3\u001b[0;31m \u001b[0;32mimport\u001b[0m \u001b[0mimagehash\u001b[0m\u001b[0;34m\u001b[0m\u001b[0;34m\u001b[0m\u001b[0m\n\u001b[0m\u001b[1;32m      4\u001b[0m \u001b[0;34m\u001b[0m\u001b[0m\n\u001b[1;32m      5\u001b[0m \u001b[0;31m# Create the Hash Object of the first image\u001b[0m\u001b[0;34m\u001b[0m\u001b[0;34m\u001b[0m\u001b[0;34m\u001b[0m\u001b[0m\n",
      "\u001b[0;31mModuleNotFoundError\u001b[0m: No module named 'imagehash'"
     ]
    }
   ],
   "source": [
    "# Import dependencies\n",
    "from PIL import Image\n",
    "import imagehash\n",
    "\n",
    "# Create the Hash Object of the first image\n",
    "HDBatmanHash = imagehash.phash(Image.open('batman_hd.jpg'))\n",
    "print('Batman HD Picture: ' + str(HDBatmanHash))\n",
    "\n",
    "# Create the Hash Object of the second image\n",
    "SDBatmanHash = imagehash.phash(Image.open('batman_sd.jpg'))\n",
    "print('Batman HD Picture: ' + str(SDBatmanHash))\n",
    "\n",
    "# Compare hashes to determine whether the pictures are the same or not\n",
    "if(HDBatmanHash == SDBatmanHash):\n",
    "    print(\"The pictures are perceptually the same !\")\n",
    "else:\n",
    "    print(\"The pictures are different, distance: \" + (HDBatmanHash - SDBatmanHash))"
   ]
  },
  {
   "cell_type": "code",
   "execution_count": null,
   "id": "3020531c",
   "metadata": {},
   "outputs": [],
   "source": []
  }
 ],
 "metadata": {
  "kernelspec": {
   "display_name": "Python 3 (ipykernel)",
   "language": "python",
   "name": "python3"
  },
  "language_info": {
   "codemirror_mode": {
    "name": "ipython",
    "version": 3
   },
   "file_extension": ".py",
   "mimetype": "text/x-python",
   "name": "python",
   "nbconvert_exporter": "python",
   "pygments_lexer": "ipython3",
   "version": "3.9.0"
  }
 },
 "nbformat": 4,
 "nbformat_minor": 5
}
